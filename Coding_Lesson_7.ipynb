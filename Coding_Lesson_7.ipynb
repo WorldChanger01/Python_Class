{
 "cells": [
  {
   "cell_type": "markdown",
   "metadata": {},
   "source": [
    "# PRACTICE SESSIONS"
   ]
  },
  {
   "cell_type": "code",
   "execution_count": null,
   "metadata": {},
   "outputs": [],
   "source": []
  },
  {
   "cell_type": "code",
   "execution_count": 1,
   "metadata": {},
   "outputs": [],
   "source": [
    "#Write a Python program to get the top three items in a shop\n",
    "shop = {'item1': 45.50, 'item2':35, 'item3': 41.30, 'item4':55, 'item5': 24}"
   ]
  },
  {
   "cell_type": "code",
   "execution_count": 2,
   "metadata": {},
   "outputs": [
    {
     "data": {
      "text/plain": [
       "45.5"
      ]
     },
     "execution_count": 2,
     "metadata": {},
     "output_type": "execute_result"
    }
   ],
   "source": [
    "shop[\"item1\"]"
   ]
  },
  {
   "cell_type": "code",
   "execution_count": 3,
   "metadata": {},
   "outputs": [
    {
     "data": {
      "text/plain": [
       "dict_keys(['item1', 'item2', 'item3', 'item4', 'item5'])"
      ]
     },
     "execution_count": 3,
     "metadata": {},
     "output_type": "execute_result"
    }
   ],
   "source": [
    "shop.keys()"
   ]
  },
  {
   "cell_type": "code",
   "execution_count": 4,
   "metadata": {},
   "outputs": [
    {
     "data": {
      "text/plain": [
       "dict_items([('item1', 45.5), ('item2', 35), ('item3', 41.3), ('item4', 55), ('item5', 24)])"
      ]
     },
     "execution_count": 4,
     "metadata": {},
     "output_type": "execute_result"
    }
   ],
   "source": [
    "shop.items()"
   ]
  },
  {
   "cell_type": "code",
   "execution_count": 5,
   "metadata": {},
   "outputs": [
    {
     "data": {
      "text/plain": [
       "dict_values([45.5, 35, 41.3, 55, 24])"
      ]
     },
     "execution_count": 5,
     "metadata": {},
     "output_type": "execute_result"
    }
   ],
   "source": [
    "shop.values()"
   ]
  },
  {
   "cell_type": "code",
   "execution_count": 6,
   "metadata": {},
   "outputs": [],
   "source": [
    "l1 = [2,3,5,6,4]\n",
    "l2 = [\"a\",\"b\",\"c\",\"d\"]"
   ]
  },
  {
   "cell_type": "code",
   "execution_count": 7,
   "metadata": {},
   "outputs": [],
   "source": [
    "p = list(zip(l1,l2))"
   ]
  },
  {
   "cell_type": "code",
   "execution_count": 8,
   "metadata": {},
   "outputs": [
    {
     "data": {
      "text/plain": [
       "<zip at 0x7f87dc4385f0>"
      ]
     },
     "execution_count": 8,
     "metadata": {},
     "output_type": "execute_result"
    }
   ],
   "source": [
    "zip(l1,l2)"
   ]
  },
  {
   "cell_type": "code",
   "execution_count": 9,
   "metadata": {},
   "outputs": [
    {
     "name": "stdout",
     "output_type": "stream",
     "text": [
      "[45.5, 35, 41.3, 55, 24]\n"
     ]
    }
   ],
   "source": [
    "shop_values = []\n",
    "for item in shop.values():\n",
    "    shop_values.append(item)\n",
    "\n",
    "print(shop_values)"
   ]
  },
  {
   "cell_type": "code",
   "execution_count": 10,
   "metadata": {},
   "outputs": [
    {
     "data": {
      "text/plain": [
       "dict_values([45.5, 35, 41.3, 55, 24])"
      ]
     },
     "execution_count": 10,
     "metadata": {},
     "output_type": "execute_result"
    }
   ],
   "source": [
    "shop.values()"
   ]
  },
  {
   "cell_type": "code",
   "execution_count": 11,
   "metadata": {},
   "outputs": [],
   "source": [
    "top_values = sorted(zip(shop.keys(),shop.values()),reverse = True)"
   ]
  },
  {
   "cell_type": "code",
   "execution_count": 12,
   "metadata": {},
   "outputs": [],
   "source": [
    "p = top_values[:3]"
   ]
  },
  {
   "cell_type": "code",
   "execution_count": 13,
   "metadata": {},
   "outputs": [
    {
     "name": "stdout",
     "output_type": "stream",
     "text": [
      "item5\n",
      "item4\n",
      "item3\n"
     ]
    }
   ],
   "source": [
    "for i in range(3):\n",
    "    print(p[i][0])"
   ]
  },
  {
   "cell_type": "code",
   "execution_count": 14,
   "metadata": {},
   "outputs": [
    {
     "data": {
      "text/plain": [
       "[('item5', 24), ('item4', 55), ('item3', 41.3)]"
      ]
     },
     "execution_count": 14,
     "metadata": {},
     "output_type": "execute_result"
    }
   ],
   "source": [
    "p"
   ]
  },
  {
   "cell_type": "code",
   "execution_count": 15,
   "metadata": {},
   "outputs": [
    {
     "name": "stdout",
     "output_type": "stream",
     "text": [
      "24\n",
      "55\n",
      "41.3\n"
     ]
    }
   ],
   "source": [
    "for i in range(len(p)):\n",
    "    print(p[i][1])"
   ]
  },
  {
   "cell_type": "code",
   "execution_count": 16,
   "metadata": {},
   "outputs": [],
   "source": [
    "import pathlib\n",
    "import sys\n",
    "import os"
   ]
  },
  {
   "cell_type": "code",
   "execution_count": 38,
   "metadata": {},
   "outputs": [],
   "source": [
    "filepath = \"/home/worldchanger01/learningfile.txt\""
   ]
  },
  {
   "cell_type": "code",
   "execution_count": 39,
   "metadata": {},
   "outputs": [],
   "source": [
    "f = open(filepath,\"r\")"
   ]
  },
  {
   "cell_type": "code",
   "execution_count": 40,
   "metadata": {},
   "outputs": [
    {
     "data": {
      "text/plain": [
       "'1,A,P1\\n'"
      ]
     },
     "execution_count": 40,
     "metadata": {},
     "output_type": "execute_result"
    }
   ],
   "source": [
    "f.readline()"
   ]
  },
  {
   "cell_type": "code",
   "execution_count": 41,
   "metadata": {},
   "outputs": [
    {
     "data": {
      "text/plain": [
       "['1,A,P2\\n',\n",
       " '1,A,P2\\n',\n",
       " '1,A,P3\\n',\n",
       " '2,B,P3\\n',\n",
       " '2,B,P1\\n',\n",
       " '2,B,P1\\n',\n",
       " '3,C,P1\\n',\n",
       " '3,C,P2\\n',\n",
       " '4,D,P1\\n',\n",
       " '4,D,P3\\n',\n",
       " '4,D,P4\\n',\n",
       " '1,A,P1\\n',\n",
       " '1,A,P2\\n',\n",
       " '1,A,P2\\n',\n",
       " '1,A,P3\\n',\n",
       " '2,B,P3\\n',\n",
       " '2,B,P1\\n',\n",
       " '2,B,P1\\n',\n",
       " '3,C,P1\\n',\n",
       " '3,C,P2\\n',\n",
       " '4,D,P1\\n',\n",
       " '4,D,P3\\n',\n",
       " '4,D,P4\\n',\n",
       " '5,A,P1\\n',\n",
       " '5,A,P2\\n',\n",
       " '5,A,P2\\n',\n",
       " '5,A,P3\\n',\n",
       " '6,B,P3\\n',\n",
       " '7,B,P1\\n',\n",
       " '7,B,P1\\n',\n",
       " '7,C,P1\\n',\n",
       " '8,C,P2\\n',\n",
       " '9,D,P1\\n',\n",
       " '9,D,P3\\n',\n",
       " '10,D,P4\\n']"
      ]
     },
     "execution_count": 41,
     "metadata": {},
     "output_type": "execute_result"
    }
   ],
   "source": [
    "f.readlines()"
   ]
  },
  {
   "cell_type": "code",
   "execution_count": 42,
   "metadata": {},
   "outputs": [],
   "source": [
    "f = open(filepath,\"r\")"
   ]
  },
  {
   "cell_type": "code",
   "execution_count": 43,
   "metadata": {},
   "outputs": [
    {
     "data": {
      "text/plain": [
       "<_io.TextIOWrapper name='/home/worldchanger01/learningfile.txt' mode='r' encoding='UTF-8'>"
      ]
     },
     "execution_count": 43,
     "metadata": {},
     "output_type": "execute_result"
    }
   ],
   "source": [
    "f"
   ]
  },
  {
   "cell_type": "code",
   "execution_count": 49,
   "metadata": {},
   "outputs": [],
   "source": [
    "f.close()"
   ]
  },
  {
   "cell_type": "code",
   "execution_count": 56,
   "metadata": {},
   "outputs": [],
   "source": [
    "f = open(filepath,\"r\")"
   ]
  },
  {
   "cell_type": "code",
   "execution_count": 57,
   "metadata": {},
   "outputs": [
    {
     "name": "stdout",
     "output_type": "stream",
     "text": [
      "1,A,P1\n",
      "\n",
      "['1', 'A', 'P1\\n']\n",
      "['1', 'A', 'P2\\n']\n",
      "['1', 'A', 'P2\\n']\n",
      "['1', 'A', 'P3\\n']\n",
      "['2', 'B', 'P3\\n']\n",
      "['2', 'B', 'P1\\n']\n",
      "['2', 'B', 'P1\\n']\n",
      "['3', 'C', 'P1\\n']\n",
      "['3', 'C', 'P2\\n']\n",
      "['4', 'D', 'P1\\n']\n",
      "['4', 'D', 'P3\\n']\n",
      "['4', 'D', 'P4\\n']\n",
      "['1', 'A', 'P1\\n']\n",
      "['1', 'A', 'P2\\n']\n",
      "['1', 'A', 'P2\\n']\n",
      "['1', 'A', 'P3\\n']\n",
      "['2', 'B', 'P3\\n']\n",
      "['2', 'B', 'P1\\n']\n",
      "['2', 'B', 'P1\\n']\n",
      "['3', 'C', 'P1\\n']\n",
      "['3', 'C', 'P2\\n']\n",
      "['4', 'D', 'P1\\n']\n",
      "['4', 'D', 'P3\\n']\n",
      "['4', 'D', 'P4\\n']\n",
      "['5', 'A', 'P1\\n']\n",
      "['5', 'A', 'P2\\n']\n",
      "['5', 'A', 'P2\\n']\n",
      "['5', 'A', 'P3\\n']\n",
      "['6', 'B', 'P3\\n']\n",
      "['7', 'B', 'P1\\n']\n",
      "['7', 'B', 'P1\\n']\n",
      "['7', 'C', 'P1\\n']\n",
      "['8', 'C', 'P2\\n']\n",
      "['9', 'D', 'P1\\n']\n",
      "['9', 'D', 'P3\\n']\n",
      "['10', 'D', 'P4\\n']\n"
     ]
    }
   ],
   "source": [
    "unique_u = set()\n",
    "x = f.readline()\n",
    "print(x)\n",
    "while x!=\"\":\n",
    "    tmp_list = x.split(\",\")\n",
    "    print(tmp_list)\n",
    "    uid=tmp_list[0]\n",
    "    unique_u.add(uid)\n",
    "    x = f.readline()"
   ]
  },
  {
   "cell_type": "code",
   "execution_count": 58,
   "metadata": {},
   "outputs": [
    {
     "data": {
      "text/plain": [
       "{'1', '10', '2', '3', '4', '5', '6', '7', '8', '9'}"
      ]
     },
     "execution_count": 58,
     "metadata": {},
     "output_type": "execute_result"
    }
   ],
   "source": [
    "unique_u"
   ]
  },
  {
   "cell_type": "code",
   "execution_count": 59,
   "metadata": {},
   "outputs": [],
   "source": [
    "f.close()"
   ]
  },
  {
   "cell_type": "code",
   "execution_count": 60,
   "metadata": {},
   "outputs": [],
   "source": [
    "# UserId, Shops, Products"
   ]
  },
  {
   "cell_type": "code",
   "execution_count": 61,
   "metadata": {},
   "outputs": [],
   "source": [
    "unique_users = set()"
   ]
  },
  {
   "cell_type": "code",
   "execution_count": 62,
   "metadata": {},
   "outputs": [
    {
     "name": "stdout",
     "output_type": "stream",
     "text": [
      "1,A,P1\n",
      "\n",
      "['1', 'A', 'P1\\n']\n",
      "['1', 'A', 'P2\\n']\n",
      "['1', 'A', 'P2\\n']\n",
      "['1', 'A', 'P3\\n']\n",
      "['2', 'B', 'P3\\n']\n",
      "['2', 'B', 'P1\\n']\n",
      "['2', 'B', 'P1\\n']\n",
      "['3', 'C', 'P1\\n']\n",
      "['3', 'C', 'P2\\n']\n",
      "['4', 'D', 'P1\\n']\n",
      "['4', 'D', 'P3\\n']\n",
      "['4', 'D', 'P4\\n']\n",
      "['1', 'A', 'P1\\n']\n",
      "['1', 'A', 'P2\\n']\n",
      "['1', 'A', 'P2\\n']\n",
      "['1', 'A', 'P3\\n']\n",
      "['2', 'B', 'P3\\n']\n",
      "['2', 'B', 'P1\\n']\n",
      "['2', 'B', 'P1\\n']\n",
      "['3', 'C', 'P1\\n']\n",
      "['3', 'C', 'P2\\n']\n",
      "['4', 'D', 'P1\\n']\n",
      "['4', 'D', 'P3\\n']\n",
      "['4', 'D', 'P4\\n']\n",
      "['5', 'A', 'P1\\n']\n",
      "['5', 'A', 'P2\\n']\n",
      "['5', 'A', 'P2\\n']\n",
      "['5', 'A', 'P3\\n']\n",
      "['6', 'B', 'P3\\n']\n",
      "['7', 'B', 'P1\\n']\n",
      "['7', 'B', 'P1\\n']\n",
      "['7', 'C', 'P1\\n']\n",
      "['8', 'C', 'P2\\n']\n",
      "['9', 'D', 'P1\\n']\n",
      "['9', 'D', 'P3\\n']\n",
      "['10', 'D', 'P4\\n']\n"
     ]
    }
   ],
   "source": [
    "with open(filepath,\"r\") as f:\n",
    "    x = f.readline()\n",
    "    print(x)\n",
    "    while x!=\"\":\n",
    "        tmp_list = x.split(\",\")\n",
    "        print(tmp_list)\n",
    "        uid=tmp_list[0]\n",
    "        unique_users.add(uid)\n",
    "        x = f.readline()"
   ]
  },
  {
   "cell_type": "code",
   "execution_count": 63,
   "metadata": {},
   "outputs": [
    {
     "data": {
      "text/plain": [
       "{'1', '10', '2', '3', '4', '5', '6', '7', '8', '9'}"
      ]
     },
     "execution_count": 63,
     "metadata": {},
     "output_type": "execute_result"
    }
   ],
   "source": [
    "unique_users"
   ]
  },
  {
   "cell_type": "code",
   "execution_count": 73,
   "metadata": {},
   "outputs": [],
   "source": [
    "purchase ={}\n",
    "with open(filepath,\"r\") as f:\n",
    "    \n",
    "    for i in f.readlines():\n",
    "        tmp_list = i.strip().split(\",\")\n",
    "        sid=tmp_list[0]\n",
    "        if sid not in purchase:\n",
    "            purchase[sid]=[tmp_list[2]]\n",
    "        else:\n",
    "            purchase[sid].append(tmp_list[2])\n",
    "       "
   ]
  },
  {
   "cell_type": "code",
   "execution_count": 74,
   "metadata": {},
   "outputs": [
    {
     "data": {
      "text/plain": [
       "{'1': ['P1', 'P2', 'P2', 'P3', 'P1', 'P2', 'P2', 'P3'],\n",
       " '2': ['P3', 'P1', 'P1', 'P3', 'P1', 'P1'],\n",
       " '3': ['P1', 'P2', 'P1', 'P2'],\n",
       " '4': ['P1', 'P3', 'P4', 'P1', 'P3', 'P4'],\n",
       " '5': ['P1', 'P2', 'P2', 'P3'],\n",
       " '6': ['P3'],\n",
       " '7': ['P1', 'P1', 'P1'],\n",
       " '8': ['P2'],\n",
       " '9': ['P1', 'P3'],\n",
       " '10': ['P4']}"
      ]
     },
     "execution_count": 74,
     "metadata": {},
     "output_type": "execute_result"
    }
   ],
   "source": [
    "purchase"
   ]
  },
  {
   "cell_type": "code",
   "execution_count": 76,
   "metadata": {},
   "outputs": [],
   "source": [
    "shop_name ={}\n",
    "with open(filepath,\"r\") as f:\n",
    "    \n",
    "    for i in f.readlines():\n",
    "        tmp_list = i.strip().split(\",\")\n",
    "        sid=tmp_list[0]\n",
    "        if sid not in shop_name:\n",
    "            shop_name[sid]=[tmp_list[1]]\n",
    "        else:\n",
    "            shop_name[sid].append(tmp_list[1])"
   ]
  },
  {
   "cell_type": "code",
   "execution_count": 77,
   "metadata": {},
   "outputs": [
    {
     "data": {
      "text/plain": [
       "{'1': ['A', 'A', 'A', 'A', 'A', 'A', 'A', 'A'],\n",
       " '2': ['B', 'B', 'B', 'B', 'B', 'B'],\n",
       " '3': ['C', 'C', 'C', 'C'],\n",
       " '4': ['D', 'D', 'D', 'D', 'D', 'D'],\n",
       " '5': ['A', 'A', 'A', 'A'],\n",
       " '6': ['B'],\n",
       " '7': ['B', 'B', 'C'],\n",
       " '8': ['C'],\n",
       " '9': ['D', 'D'],\n",
       " '10': ['D']}"
      ]
     },
     "execution_count": 77,
     "metadata": {},
     "output_type": "execute_result"
    }
   ],
   "source": [
    "shop_name"
   ]
  },
  {
   "cell_type": "code",
   "execution_count": 82,
   "metadata": {},
   "outputs": [],
   "source": [
    "shop_items={}\n",
    "with open(filepath,\"r\") as f:\n",
    "    x = f.readline()\n",
    "    while x!=\"\":\n",
    "        tmp_list = x.strip().split(\",\")\n",
    "        sh = tmp_list[1]\n",
    "        if sh not in shop_items:\n",
    "            shop_items[sh] = [tmp_list[2]]\n",
    "        else:\n",
    "            shop_items[sh].append(tmp_list[2])\n",
    "        x = f.readline()"
   ]
  },
  {
   "cell_type": "code",
   "execution_count": 83,
   "metadata": {},
   "outputs": [
    {
     "data": {
      "text/plain": [
       "{'A': ['P1', 'P2', 'P2', 'P3', 'P1', 'P2', 'P2', 'P3', 'P1', 'P2', 'P2', 'P3'],\n",
       " 'B': ['P3', 'P1', 'P1', 'P3', 'P1', 'P1', 'P3', 'P1', 'P1'],\n",
       " 'C': ['P1', 'P2', 'P1', 'P2', 'P1', 'P2'],\n",
       " 'D': ['P1', 'P3', 'P4', 'P1', 'P3', 'P4', 'P1', 'P3', 'P4']}"
      ]
     },
     "execution_count": 83,
     "metadata": {},
     "output_type": "execute_result"
    }
   ],
   "source": [
    "shop_items"
   ]
  },
  {
   "cell_type": "code",
   "execution_count": 26,
   "metadata": {},
   "outputs": [
    {
     "data": {
      "text/plain": [
       "<_io.TextIOWrapper name='/home/worldchanger01/learningfile.txt' mode='r' encoding='UTF-8'>"
      ]
     },
     "execution_count": 26,
     "metadata": {},
     "output_type": "execute_result"
    }
   ],
   "source": [
    "f"
   ]
  },
  {
   "cell_type": "code",
   "execution_count": 27,
   "metadata": {},
   "outputs": [],
   "source": [
    "hhh =\"fggh\""
   ]
  },
  {
   "cell_type": "code",
   "execution_count": 28,
   "metadata": {},
   "outputs": [
    {
     "data": {
      "text/plain": [
       "['fggh']"
      ]
     },
     "execution_count": 28,
     "metadata": {},
     "output_type": "execute_result"
    }
   ],
   "source": [
    "hhh.split()"
   ]
  },
  {
   "cell_type": "code",
   "execution_count": 36,
   "metadata": {},
   "outputs": [],
   "source": [
    "u=set()\n",
    "with open(filepath,\"r\") as f:\n",
    "    \n",
    "    for i in f.readlines():\n",
    "        tmp_list = i.split(\",\")\n",
    "        sid=tmp_list[0]\n",
    "        u.add(sid)"
   ]
  },
  {
   "cell_type": "code",
   "execution_count": 37,
   "metadata": {},
   "outputs": [
    {
     "name": "stdout",
     "output_type": "stream",
     "text": [
      "{'6', '7', '10', '9', '4', '2', '1', '8', '5', '3'}\n"
     ]
    }
   ],
   "source": [
    "print(u)"
   ]
  },
  {
   "cell_type": "code",
   "execution_count": 31,
   "metadata": {},
   "outputs": [
    {
     "name": "stdout",
     "output_type": "stream",
     "text": [
      "1\n",
      "2\n",
      "3\n",
      "6\n"
     ]
    }
   ],
   "source": [
    "iii={1,2,3}\n",
    "iii.add(6)\n",
    "for n in iii:\n",
    "    print(n)"
   ]
  },
  {
   "cell_type": "code",
   "execution_count": 32,
   "metadata": {},
   "outputs": [
    {
     "data": {
      "text/plain": [
       "{1, 2, 3, 6}"
      ]
     },
     "execution_count": 32,
     "metadata": {},
     "output_type": "execute_result"
    }
   ],
   "source": [
    "iii"
   ]
  },
  {
   "cell_type": "code",
   "execution_count": 1,
   "metadata": {},
   "outputs": [
    {
     "data": {
      "text/plain": [
       "50"
      ]
     },
     "execution_count": 1,
     "metadata": {},
     "output_type": "execute_result"
    }
   ],
   "source": [
    "hash(50)"
   ]
  },
  {
   "cell_type": "code",
   "execution_count": 2,
   "metadata": {},
   "outputs": [
    {
     "data": {
      "text/plain": [
       "-3993667510202581612"
      ]
     },
     "execution_count": 2,
     "metadata": {},
     "output_type": "execute_result"
    }
   ],
   "source": [
    "hash(\"boy\")"
   ]
  },
  {
   "cell_type": "code",
   "execution_count": 3,
   "metadata": {},
   "outputs": [
    {
     "data": {
      "text/plain": [
       "-8031512204644773403"
      ]
     },
     "execution_count": 3,
     "metadata": {},
     "output_type": "execute_result"
    }
   ],
   "source": [
    "hash(\"edwin\")"
   ]
  },
  {
   "cell_type": "code",
   "execution_count": 25,
   "metadata": {},
   "outputs": [
    {
     "data": {
      "text/plain": [
       "6138478764383848755"
      ]
     },
     "execution_count": 25,
     "metadata": {},
     "output_type": "execute_result"
    }
   ],
   "source": [
    "hash(\"joojo\")"
   ]
  },
  {
   "cell_type": "code",
   "execution_count": 12,
   "metadata": {},
   "outputs": [],
   "source": [
    "_KEY= 541"
   ]
  },
  {
   "cell_type": "code",
   "execution_count": 2,
   "metadata": {},
   "outputs": [],
   "source": [
    "def encrypt(password):\n",
    "    return hash(password)%541        "
   ]
  },
  {
   "cell_type": "code",
   "execution_count": 3,
   "metadata": {},
   "outputs": [
    {
     "data": {
      "text/plain": [
       "157"
      ]
     },
     "execution_count": 3,
     "metadata": {},
     "output_type": "execute_result"
    }
   ],
   "source": [
    "encrypt(\"joojo\")"
   ]
  },
  {
   "cell_type": "code",
   "execution_count": 4,
   "metadata": {},
   "outputs": [
    {
     "name": "stdin",
     "output_type": "stream",
     "text": [
      " ghanaa\n"
     ]
    },
    {
     "data": {
      "text/plain": [
       "427"
      ]
     },
     "execution_count": 4,
     "metadata": {},
     "output_type": "execute_result"
    }
   ],
   "source": [
    "user = input()\n",
    "\n",
    "encrypt(user) "
   ]
  },
  {
   "cell_type": "code",
   "execution_count": 5,
   "metadata": {},
   "outputs": [
    {
     "name": "stdin",
     "output_type": "stream",
     "text": [
      " mypassword\n"
     ]
    },
    {
     "name": "stdout",
     "output_type": "stream",
     "text": [
      "Try again please\n"
     ]
    },
    {
     "name": "stdin",
     "output_type": "stream",
     "text": [
      " \"mypassword\"\n"
     ]
    },
    {
     "name": "stdout",
     "output_type": "stream",
     "text": [
      "Try again please\n"
     ]
    },
    {
     "name": "stdin",
     "output_type": "stream",
     "text": [
      " mypassword\n"
     ]
    },
    {
     "name": "stdout",
     "output_type": "stream",
     "text": [
      "Try again please\n"
     ]
    }
   ],
   "source": [
    "for  t in range(3):\n",
    "    _KEY = 283\n",
    "\n",
    "    user = input()\n",
    "\n",
    "    u = encrypt(user) \n",
    "\n",
    "    if _KEY == u:\n",
    "        print(\"Correct Password\")\n",
    "        break\n",
    "    else:\n",
    "        print(\"Try again please\")\n",
    "        continue\n",
    "    print(\"You have exhauted your chance\")"
   ]
  },
  {
   "cell_type": "code",
   "execution_count": 6,
   "metadata": {},
   "outputs": [
    {
     "data": {
      "text/plain": [
       "61"
      ]
     },
     "execution_count": 6,
     "metadata": {},
     "output_type": "execute_result"
    }
   ],
   "source": [
    "encrypt(\"mypassword\")"
   ]
  },
  {
   "cell_type": "code",
   "execution_count": 3,
   "metadata": {},
   "outputs": [],
   "source": [
    "uuuu=[1,3,4]"
   ]
  },
  {
   "cell_type": "code",
   "execution_count": 7,
   "metadata": {},
   "outputs": [],
   "source": [
    "uuuu.remove(4)"
   ]
  },
  {
   "cell_type": "code",
   "execution_count": 8,
   "metadata": {},
   "outputs": [
    {
     "data": {
      "text/plain": [
       "[3]"
      ]
     },
     "execution_count": 8,
     "metadata": {},
     "output_type": "execute_result"
    }
   ],
   "source": [
    "uuuu"
   ]
  },
  {
   "cell_type": "code",
   "execution_count": 21,
   "metadata": {},
   "outputs": [],
   "source": [
    "def oursort(lis):\n",
    "    l = max(lis)\n",
    "    lis.remove(l)\n",
    "    return l"
   ]
  },
  {
   "cell_type": "code",
   "execution_count": 25,
   "metadata": {},
   "outputs": [],
   "source": [
    "sty= [1,2,5]"
   ]
  },
  {
   "cell_type": "code",
   "execution_count": 28,
   "metadata": {},
   "outputs": [
    {
     "data": {
      "text/plain": [
       "1"
      ]
     },
     "execution_count": 28,
     "metadata": {},
     "output_type": "execute_result"
    }
   ],
   "source": [
    "oursort(sty)"
   ]
  },
  {
   "cell_type": "code",
   "execution_count": 11,
   "metadata": {},
   "outputs": [
    {
     "name": "stdin",
     "output_type": "stream",
     "text": [
      "Enter a number:  6\n"
     ]
    }
   ],
   "source": [
    "user= int(input(\"Enter a number: \"))newlist"
   ]
  },
  {
   "cell_type": "code",
   "execution_count": 18,
   "metadata": {},
   "outputs": [
    {
     "name": "stdin",
     "output_type": "stream",
     "text": [
      "Enter a number:  4\n",
      "Enter a number:  5\n",
      "Enter a number:  6\n",
      "Enter a number:  7\n",
      "Enter a number:  8\n",
      "Enter a number:  9\n",
      "Enter a number:  0\n",
      "Enter a number:  1\n",
      "Enter a number:  2\n",
      "Enter a number:  3\n"
     ]
    }
   ],
   "source": [
    "newlist=[]\n",
    "for i in range(10):\n",
    "    users= int(input(\"Enter a number: \"))\n",
    "    newlist.append(users)\n",
    "    "
   ]
  },
  {
   "cell_type": "code",
   "execution_count": 19,
   "metadata": {},
   "outputs": [
    {
     "data": {
      "text/plain": [
       "[4, 5, 6, 7, 8, 9, 0, 1, 2, 3]"
      ]
     },
     "execution_count": 19,
     "metadata": {},
     "output_type": "execute_result"
    }
   ],
   "source": [
    "newlist"
   ]
  },
  {
   "cell_type": "code",
   "execution_count": 20,
   "metadata": {},
   "outputs": [
    {
     "name": "stdout",
     "output_type": "stream",
     "text": [
      "9\n",
      "8\n",
      "7\n",
      "6\n",
      "5\n",
      "4\n",
      "3\n",
      "2\n",
      "1\n",
      "0\n"
     ]
    }
   ],
   "source": [
    "for n in range(10):\n",
    "    print(oursort(newlist))"
   ]
  },
  {
   "cell_type": "code",
   "execution_count": null,
   "metadata": {},
   "outputs": [],
   "source": []
  }
 ],
 "metadata": {
  "kernelspec": {
   "display_name": "Python 3 (ipykernel)",
   "language": "python",
   "name": "python3"
  },
  "language_info": {
   "codemirror_mode": {
    "name": "ipython",
    "version": 3
   },
   "file_extension": ".py",
   "mimetype": "text/x-python",
   "name": "python",
   "nbconvert_exporter": "python",
   "pygments_lexer": "ipython3",
   "version": "3.7.13"
  }
 },
 "nbformat": 4,
 "nbformat_minor": 4
}
